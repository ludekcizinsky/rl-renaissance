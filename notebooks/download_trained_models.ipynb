{
 "cells": [
  {
   "cell_type": "markdown",
   "metadata": {},
   "source": [
    "### Setup \n",
    "\n",
    "---"
   ]
  },
  {
   "cell_type": "markdown",
   "metadata": {},
   "source": [
    "For downloading the best models from wandb, you can just use whatever python environment you want as long as it has the `wandb` package installed."
   ]
  },
  {
   "cell_type": "code",
   "execution_count": 1,
   "metadata": {},
   "outputs": [],
   "source": [
    "import os\n",
    "\n",
    "import wandb\n",
    "from omegaconf import OmegaConf"
   ]
  },
  {
   "cell_type": "markdown",
   "metadata": {},
   "source": [
    "### Download locally the best models from wandb\n",
    "\n",
    "---"
   ]
  },
  {
   "cell_type": "markdown",
   "metadata": {},
   "source": [
    "#### Define the directory to save the downloaded models"
   ]
  },
  {
   "cell_type": "code",
   "execution_count": 2,
   "metadata": {},
   "outputs": [],
   "source": [
    "CKPT_DIR = \"/scratch/izar/cizinsky/rl-for-kinetics/inference\""
   ]
  },
  {
   "cell_type": "code",
   "execution_count": 3,
   "metadata": {},
   "outputs": [],
   "source": [
    "!mkdir -p {CKPT_DIR}"
   ]
  },
  {
   "cell_type": "markdown",
   "metadata": {},
   "source": [
    "#### Get overview of the relevant runs"
   ]
  },
  {
   "cell_type": "markdown",
   "metadata": {},
   "source": [
    "Using  the tag in wandb, we can filter the runs we want to download."
   ]
  },
  {
   "cell_type": "code",
   "execution_count": 4,
   "metadata": {},
   "outputs": [],
   "source": [
    "tag = \"final\""
   ]
  },
  {
   "cell_type": "markdown",
   "metadata": {},
   "source": [
    "We can then make a list of these runs with their ids, names and tags."
   ]
  },
  {
   "cell_type": "code",
   "execution_count": 6,
   "metadata": {},
   "outputs": [
    {
     "name": "stdout",
     "output_type": "stream",
     "text": [
      "din2zvev | major-eon-319 | tags: ['baseline', 'final']\n",
      "7ohl8voj | youthful-sky-321 | tags: ['cosine', 'final', 'lr_scheduler']\n",
      "hr6z43ue | sweet-river-322 | tags: ['clip_eps_cosine', 'final']\n",
      "qsss11dq | likely-waterfall-323 | tags: ['final', 'linear_decay', 'lr_scheduler']\n",
      "b92baj9v | likely-resonance-324 | tags: ['clip_decay_fast', 'final']\n",
      "4qeg9cvy | lively-violet-325 | tags: ['clip_decay_slow', 'final']\n",
      "bh1wnuo4 | fiery-snowball-326 | tags: ['final', 'num_epochs']\n",
      "ff5yf59x | young-mountain-327 | tags: ['clip_eps_end_low', 'final']\n",
      "dq58dc21 | golden-deluge-328 | tags: ['final', 'num_epochs']\n",
      "t39e6bfb | avid-dream-329 | tags: ['clip_eps_start_high', 'final']\n",
      "ake9phwj | playful-armadillo-330 | tags: ['final', 'max_grad_norm']\n",
      "c8v67ffu | classic-music-331 | tags: ['final', 'max_grad_norm']\n",
      "kwpd55ei | proud-bird-332 | tags: ['actor_lr_down', 'final']\n",
      "8x2ba62t | stilted-violet-333 | tags: ['actor_lr_down', 'final']\n",
      "i0zbxqss | elated-tree-334 | tags: ['entropy_loss_weight', 'final']\n",
      "1fa557su | stellar-sponge-335 | tags: ['entropy_loss_weight', 'final']\n",
      "jtrib2gy | warm-smoke-336 | tags: ['final', 'gae_lambda_down']\n",
      "esxeu8xg | deft-grass-337 | tags: ['action_scale', 'final']\n",
      "wei5eryq | lunar-durian-338 | tags: ['final', 'gae_lambda_up']\n",
      "tcwqz9db | ethereal-bird-339 | tags: ['action_scale', 'final']\n",
      "zdkeaj4x | still-resonance-340 | tags: ['final', 'value_loss_weight_down']\n"
     ]
    }
   ],
   "source": [
    "api = wandb.Api()\n",
    "\n",
    "runs = api.runs(\"ludekcizinsky/rl-renaissance\")\n",
    "\n",
    "tagged_runs = [run for run in runs if tag in run.tags]\n",
    "\n",
    "for run in tagged_runs:\n",
    "    print(f\"{run.id} | {run.name} | tags: {run.tags}\")"
   ]
  },
  {
   "cell_type": "markdown",
   "metadata": {},
   "source": [
    "#### Select the models you want to download"
   ]
  },
  {
   "cell_type": "code",
   "execution_count": 7,
   "metadata": {},
   "outputs": [],
   "source": [
    "selected_ids = [\"zdkeaj4x\"]\n",
    "# selected_ids = [run.id for run in tagged_runs] # if you want to download all runs with the tag"
   ]
  },
  {
   "cell_type": "markdown",
   "metadata": {},
   "source": [
    "#### Download the models"
   ]
  },
  {
   "cell_type": "code",
   "execution_count": 8,
   "metadata": {},
   "outputs": [
    {
     "name": "stdout",
     "output_type": "stream",
     "text": [
      "Downloading checkpoint for run zdkeaj4x...\n",
      "ludekcizinsky/rl-renaissance/still-resonance-340:v0\n"
     ]
    },
    {
     "name": "stderr",
     "output_type": "stream",
     "text": [
      "\u001b[34m\u001b[1mwandb\u001b[0m:   6 of 6 files downloaded.  \n"
     ]
    },
    {
     "name": "stdout",
     "output_type": "stream",
     "text": [
      "Downloaded checkpoint to /scratch/izar/cizinsky/rl-for-kinetics/inference/still-resonance-340.\n"
     ]
    }
   ],
   "source": [
    "for run_id in selected_ids:\n",
    "    print(f\"Downloading checkpoint for run {run_id}...\")\n",
    "    run = next((run for run in runs if run.id == run_id), None)\n",
    "    assert run is not None, \"Run not found!\"\n",
    "\n",
    "    artifact_path = f\"ludekcizinsky/rl-renaissance/{run.name}:v0\"\n",
    "    print(artifact_path)\n",
    "    artifact = api.artifact(artifact_path, type=\"model\")\n",
    "    os.makedirs(f\"{CKPT_DIR}/{run.name}\", exist_ok=True)\n",
    "    download_path = f\"{CKPT_DIR}/{run.name}\"\n",
    "\n",
    "    # Config\n",
    "    run_cfg = OmegaConf.create(run.config)\n",
    "    OmegaConf.save(run_cfg, f\"{download_path}/config.yaml\")\n",
    "\n",
    "    # Checkpoints\n",
    "    artifact.download(download_path)\n",
    "    print(f\"Downloaded checkpoint to {download_path}.\")"
   ]
  }
 ],
 "metadata": {
  "kernelspec": {
   "display_name": "adaexam22",
   "language": "python",
   "name": "python3"
  },
  "language_info": {
   "name": "python",
   "version": "3.10.13"
  }
 },
 "nbformat": 4,
 "nbformat_minor": 2
}
