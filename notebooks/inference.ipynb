{
 "cells": [
  {
   "cell_type": "markdown",
   "metadata": {},
   "source": [
    "code that strana used to get his high incidence rate"
   ]
  },
  {
   "cell_type": "code",
   "execution_count": null,
   "metadata": {},
   "outputs": [],
   "source": [
    "def evaluate_agent_incidence(cfg, actor_path, threshold, num_samples=100, logger=None):\n",
    "    # Load agent and policy weights\n",
    "    agent = PPOAgent(cfg, logger)\n",
    "    agent.policy_net.load_state_dict(torch.load(actor_path, map_location=\"cpu\"))\n",
    "    agent.policy_net.eval()\n",
    "\n",
    "    count_above = 0\n",
    "\n",
    "    rewards = []\n",
    "    distributions = []\n",
    "    states = []\n",
    "    state = env.reset()\n",
    "    for _ in range(agent.cfg.training.max_steps_per_episode):\n",
    "        mean, std = agent.policy_net(state)\n",
    "        dist = torch.distributions.Normal(mean, std)\n",
    "        action = dist.rsample()\n",
    "\n",
    "        next_state, sample_reward, _ = env.step(action)\n",
    "\n",
    "        rewards.append(sample_reward)\n",
    "        distributions.append(dist)\n",
    "        states.append(state)\n",
    "\n",
    "        state = next_state\n",
    "\n",
    "    max_idx = np.argmax(rewards)\n",
    "    state = states[max_idx]\n",
    "    dist = distributions[max_idx]\n",
    "\n",
    "    for i in range(num_samples):\n",
    "        env.state = state\n",
    "        action = dist.rsample()\n",
    "        next_state, reward, _ = env.step(action)\n",
    "        if reward > threshold:\n",
    "            count_above += 1\n",
    "        print(f\"Sample {i+1}/{num_samples}: Reward = {reward:.4f}\")\n",
    "\n",
    "    incidence_rate = count_above / num_samples\n",
    "    print(f\"Incidence rate (reward > {threshold}): {incidence_rate:.4f} ({count_above}/{num_samples})\")\n",
    "    return incidence_rate, reward"
   ]
  }
 ],
 "metadata": {
  "kernelspec": {
   "display_name": "adaexam22",
   "language": "python",
   "name": "python3"
  },
  "language_info": {
   "name": "python",
   "version": "3.10.13"
  }
 },
 "nbformat": 4,
 "nbformat_minor": 2
}
